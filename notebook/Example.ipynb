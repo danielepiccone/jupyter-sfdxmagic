{
 "cells": [
  {
   "cell_type": "code",
   "execution_count": null,
   "metadata": {},
   "outputs": [],
   "source": [
    "%reload_ext sfdxmagic"
   ]
  },
  {
   "cell_type": "code",
   "execution_count": null,
   "metadata": {},
   "outputs": [],
   "source": [
    "%%sfdx:apex logs -u org1\n",
    "List<Lead> leads = new List<Lead>();\n",
    "for (Integer i = 0; i < 10; i++) {\n",
    "    leads.add(\n",
    "        new Lead(\n",
    "            FirstName='Foo' + i,\n",
    "            LastName='Bar' + i,\n",
    "            Company='Example ' + i\n",
    "        )\n",
    "    );\n",
    "}\n",
    "System.debug('Inserting leads');\n",
    "insert leads;"
   ]
  },
  {
   "cell_type": "code",
   "execution_count": null,
   "metadata": {},
   "outputs": [],
   "source": [
    "# Check out the logs\n",
    "[line for line in logs.split('\\n') if 'DEBUG' in line]"
   ]
  },
  {
   "cell_type": "code",
   "execution_count": null,
   "metadata": {},
   "outputs": [],
   "source": [
    "%%sfdx:query df_leads -u org1\n",
    "    \n",
    "    SELECT Id, Name, Email FROM Lead LIMIT 100"
   ]
  },
  {
   "cell_type": "code",
   "execution_count": null,
   "metadata": {},
   "outputs": [],
   "source": [
    "# Check out the records\n",
    "df_leads.head()"
   ]
  }
 ],
 "metadata": {
  "kernelspec": {
   "display_name": "Python 3",
   "language": "python",
   "name": "python3"
  },
  "language_info": {
   "codemirror_mode": {
    "name": "ipython",
    "version": 3
   },
   "file_extension": ".py",
   "mimetype": "text/x-python",
   "name": "python",
   "nbconvert_exporter": "python",
   "pygments_lexer": "ipython3",
   "version": "3.7.7"
  }
 },
 "nbformat": 4,
 "nbformat_minor": 4
}
